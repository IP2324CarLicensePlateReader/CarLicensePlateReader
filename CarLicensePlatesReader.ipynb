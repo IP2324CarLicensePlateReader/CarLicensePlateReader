{
 "cells": [
  {
   "cell_type": "markdown",
   "id": "2b1d4adc",
   "metadata": {},
   "source": [
    "Car License Plate Reader - Overview\n",
    "1. Input Image\n",
    "2. Grayscale Image\n",
    "3. Binarize Image\n",
    "4. Plate Localization\n",
    "5. Character Segmentation\n",
    "6. Character Recognition"
   ]
  },
  {
   "cell_type": "code",
   "execution_count": 27,
   "id": "cdd9ed75",
   "metadata": {},
   "outputs": [],
   "source": [
    "# Author: Luke O'Shea Scanlan, Panagiotis Bampilis\n",
    "# Module: Image Processing 2023-2024\n",
    "# Group Project\n",
    "\n",
    "import cv2\n",
    "import numpy as np\n",
    "import easyocr\n",
    "import re\n",
    "from matplotlib import pyplot as plt"
   ]
  },
  {
   "cell_type": "code",
   "execution_count": 52,
   "id": "b6c1c5b3",
   "metadata": {},
   "outputs": [
    {
     "name": "stderr",
     "output_type": "stream",
     "text": [
      "Using CPU. Note: This module is much faster with a GPU.\n"
     ]
    },
    {
     "ename": "TypeError",
     "evalue": "expected string or bytes-like object",
     "output_type": "error",
     "traceback": [
      "\u001b[1;31m---------------------------------------------------------------------------\u001b[0m",
      "\u001b[1;31mTypeError\u001b[0m                                 Traceback (most recent call last)",
      "\u001b[1;32mc:\\Users\\panos\\Documents\\TUDublin\\CarLicensePlateReader\\CarLicensePlatesReader.ipynb Cell 3\u001b[0m line \u001b[0;36m5\n\u001b[0;32m     <a href='vscode-notebook-cell:/c%3A/Users/panos/Documents/TUDublin/CarLicensePlateReader/CarLicensePlatesReader.ipynb#W2sZmlsZQ%3D%3D?line=49'>50</a>\u001b[0m \u001b[39m# Pattern that checks through for valid recognized license plates\u001b[39;00m\n\u001b[0;32m     <a href='vscode-notebook-cell:/c%3A/Users/panos/Documents/TUDublin/CarLicensePlateReader/CarLicensePlatesReader.ipynb#W2sZmlsZQ%3D%3D?line=50'>51</a>\u001b[0m \u001b[39mif\u001b[39;00m found \u001b[39m==\u001b[39m \u001b[39mFalse\u001b[39;00m:\n\u001b[1;32m---> <a href='vscode-notebook-cell:/c%3A/Users/panos/Documents/TUDublin/CarLicensePlateReader/CarLicensePlatesReader.ipynb#W2sZmlsZQ%3D%3D?line=51'>52</a>\u001b[0m     \u001b[39mif\u001b[39;00m re\u001b[39m.\u001b[39;49mmatch(\u001b[39m'\u001b[39;49m\u001b[39m\\\u001b[39;49m\u001b[39mw\u001b[39;49m\u001b[39m\\\u001b[39;49m\u001b[39mw-\u001b[39;49m\u001b[39m'\u001b[39;49m, textBox):\n\u001b[0;32m     <a href='vscode-notebook-cell:/c%3A/Users/panos/Documents/TUDublin/CarLicensePlateReader/CarLicensePlatesReader.ipynb#W2sZmlsZQ%3D%3D?line=52'>53</a>\u001b[0m         \u001b[39mprint\u001b[39m(\u001b[39m\"\u001b[39m\u001b[39mLicense plate on this image is: \u001b[39m\u001b[39m\"\u001b[39m, textBox)\n\u001b[0;32m     <a href='vscode-notebook-cell:/c%3A/Users/panos/Documents/TUDublin/CarLicensePlateReader/CarLicensePlatesReader.ipynb#W2sZmlsZQ%3D%3D?line=53'>54</a>\u001b[0m         found \u001b[39m=\u001b[39m \u001b[39mTrue\u001b[39;00m\n",
      "File \u001b[1;32mc:\\Users\\panos\\miniconda3\\envs\\myenv\\lib\\re.py:191\u001b[0m, in \u001b[0;36mmatch\u001b[1;34m(pattern, string, flags)\u001b[0m\n\u001b[0;32m    188\u001b[0m \u001b[39mdef\u001b[39;00m \u001b[39mmatch\u001b[39m(pattern, string, flags\u001b[39m=\u001b[39m\u001b[39m0\u001b[39m):\n\u001b[0;32m    189\u001b[0m \u001b[39m    \u001b[39m\u001b[39m\"\"\"Try to apply the pattern at the start of the string, returning\u001b[39;00m\n\u001b[0;32m    190\u001b[0m \u001b[39m    a Match object, or None if no match was found.\"\"\"\u001b[39;00m\n\u001b[1;32m--> 191\u001b[0m     \u001b[39mreturn\u001b[39;00m _compile(pattern, flags)\u001b[39m.\u001b[39;49mmatch(string)\n",
      "\u001b[1;31mTypeError\u001b[0m: expected string or bytes-like object"
     ]
    }
   ],
   "source": [
    "\"\"\"\n",
    "\n",
    "This project aims to give the user the ability to input any sample images of car license plates\n",
    "and return the results as a text output.\n",
    "\n",
    "The product is capable of recognising car license plates rotated, as well as a certain amount of blurriness.\n",
    "\n",
    "\"\"\"\n",
    "\n",
    "# Input Image\n",
    "image = cv2.imread(\"Sample Inputs/personal.JPG\")\n",
    "\n",
    "# Grayscale Image\n",
    "gray = cv2.cvtColor(image, cv2.COLOR_BGR2GRAY)\n",
    "\n",
    "# Binarize Image\n",
    "T, thres = cv2.threshold(gray, 190, 255, cv2.THRESH_BINARY)\n",
    "# T = np.mean(gray)\n",
    "# T, thres = cv2.threshold(gray, 190, 250, type = cv2.THRESH_BINARY_INV)\n",
    "\n",
    "# Adaptive Inverted Threshold\n",
    "thres_adaptive = cv2.adaptiveThreshold(gray, maxValue = 255,adaptiveMethod = cv2.ADAPTIVE_THRESH_GAUSSIAN_C, thresholdType = cv2.THRESH_BINARY, blockSize = 35,C = 10)\n",
    "\n",
    "# Creating empty canvas to fill mask in\n",
    "canvas = np.zeros(image.shape, np.uint8)\n",
    "canvas.fill(255)\n",
    "\n",
    "# Creating mask to fill in the contours\n",
    "mask = np.zeros(image.shape, np.uint8)\n",
    "mask.fill(255)\n",
    "contours_mask = cv2.findContours(thres_adaptive, cv2.RETR_EXTERNAL, cv2.CHAIN_APPROX_SIMPLE)\n",
    "\n",
    "# Fill in with red lined contours\n",
    "# contours = cv2.findContours(B, cv2.RETR_EXTERNAL, cv2.CHAIN_APPROX_SIMPLE)\n",
    "# img = cv2.drawContours(mask, contours[0], -1, (255, 0, 0), 2) \n",
    "shape = cv2.getStructuringElement(cv2.MORPH_RECT,(3,3))\n",
    "morph = cv2.morphologyEx(thres_adaptive,cv2.MORPH_CLOSE,shape)\n",
    "boundary = cv2.morphologyEx(morph,cv2.MORPH_GRADIENT,shape)\n",
    "\n",
    "# Instance of reader to detect roman characters\n",
    "reader = easyocr.Reader(['en'], gpu=False)\n",
    "\n",
    "# Roman character Recognition after morphology applied or Inverted Threshold\n",
    "textBox = reader.readtext(thres_adaptive)\n",
    "# print(textBox)\n",
    "\n",
    "# Boolean to be used for pattern recognition\n",
    "found = False\n",
    "\n",
    "# Drawing box around text areas\n",
    "for t in textBox:\n",
    "    # print(t)\n",
    "    bbox, text, score = t\n",
    "\n",
    "    # cv2.rectangle(image, bbox[0], bbox[2], (0, 255, 0), 5)\n",
    "    \n",
    "    # Pattern that checks through for valid recognized license plates\n",
    "    if found == False:\n",
    "        if re.match('\\w\\w-', text):\n",
    "            print(\"License plate on this image is: \", text)\n",
    "            found = True\n",
    "            break\n",
    "        elif re.match('\\w\\w\\s-', text):\n",
    "            print(\"License plate on this image is: \", text)\n",
    "            found = True\n",
    "            break\n",
    "        elif re.match('\\w\\w\\w-', text):\n",
    "            print(\"License plate on this image is: \", text)\n",
    "            found = True\n",
    "            break\n",
    "        elif re.match('\\w\\w\\w\\s-', text):\n",
    "            print(\"License plate on this image is: \", text)\n",
    "            found = True\n",
    "            break\n",
    "\n",
    "if found == False:\n",
    "    print(\"Licenses Plates not found!\")\n",
    "\n",
    "# For loop to be used to mask out the license plates number\n",
    "# for c in contours:\n",
    "#     if contours == 0:\n",
    "#         canvas = cv2.fillConvexPoly(mask, contours_mask[contours], (0, 0, 0,))\n",
    "\n",
    "fig, args = plt.subplots(2, 1)\n",
    "args[0].imshow(thres, cmap='gray')\n",
    "args[1].imshow(morph, cmap='gray')\n",
    "\n",
    "# cv2.imwrite(\"new_image.jpg\", boundary)\n",
    "# plt.imshow(cv2.cvtColor(image, cv2.COLOR_BGR2RGB))\n",
    "# plt.imshow(thres, cmap='gray')\n",
    "# plt.show() \n",
    "# cv2.destroyAllWindows()\n",
    "# cv2.waitKey(1) \n"
   ]
  }
 ],
 "metadata": {
  "kernelspec": {
   "display_name": "Python 3 (ipykernel)",
   "language": "python",
   "name": "python3"
  },
  "language_info": {
   "codemirror_mode": {
    "name": "ipython",
    "version": 3
   },
   "file_extension": ".py",
   "mimetype": "text/x-python",
   "name": "python",
   "nbconvert_exporter": "python",
   "pygments_lexer": "ipython3",
   "version": "3.8.10"
  }
 },
 "nbformat": 4,
 "nbformat_minor": 5
}
