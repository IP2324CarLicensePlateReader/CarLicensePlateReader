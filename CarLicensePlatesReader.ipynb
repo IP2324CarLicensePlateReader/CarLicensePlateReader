{
 "cells": [
  {
   "cell_type": "code",
   "execution_count": 2,
   "id": "b6c1c5b3",
   "metadata": {},
   "outputs": [
    {
     "name": "stdout",
     "output_type": "stream",
     "text": [
      "wartime\n"
     ]
    }
   ],
   "source": [
    "# Author: Luke O'Shea Scanlan, Panagiotis Bampilis\n",
    "# Module: Image Processing 2023-2024\n",
    "# Group Project\n",
    "\n",
    "import cv2\n",
    "import numpy as np\n",
    "from matplotlib import pyplot as plt\n",
    "\n",
    "\"\"\"\n",
    "\n",
    "This project aims to give the user the ability to input any sample images of car license plates\n",
    "and return the results as a text output.\n",
    "\n",
    "The product is capable of recognising car license plates rotated, as well as a certain amount of blurriness.\n",
    "\n",
    "\"\"\"\n",
    "\n",
    "# Welcome Screen\n",
    "# print(\"\")\n",
    "\n",
    "original_image = input(\"Please type image filename: \")\n",
    "# print(original_image)\n",
    "\n",
    "def import_image(original_image):\n",
    "    pass\n",
    "\n",
    "def process_image(original_image):\n",
    "    pass\n",
    "# return processed_plates\n",
    "\n"
   ]
  }
 ],
 "metadata": {
  "kernelspec": {
   "display_name": "Python 3 (ipykernel)",
   "language": "python",
   "name": "python3"
  },
  "language_info": {
   "codemirror_mode": {
    "name": "ipython",
    "version": 3
   },
   "file_extension": ".py",
   "mimetype": "text/x-python",
   "name": "python",
   "nbconvert_exporter": "python",
   "pygments_lexer": "ipython3",
   "version": "3.9.13"
  }
 },
 "nbformat": 4,
 "nbformat_minor": 5
}
