{
 "cells": [
  {
   "cell_type": "markdown",
   "id": "2b1d4adc",
   "metadata": {},
   "source": [
    "Car License Plate Reader - Overview\n",
    "1. Input Image\n",
    "2. Grayscale Image\n",
    "3. Binarize Image\n",
    "4. Plate Localization\n",
    "5. Character Segmentation\n",
    "6. Character Recognition"
   ]
  },
  {
   "cell_type": "code",
   "execution_count": 73,
   "id": "cdd9ed75",
   "metadata": {},
   "outputs": [],
   "source": [
    "# Author: Luke O'Shea Scanlan, Panagiotis Bampilis\n",
    "# Module: Image Processing 2023-2024\n",
    "# Group Project\n",
    "\n",
    "import cv2\n",
    "import numpy as np\n",
    "import easyocr\n",
    "import numpy as np\n",
    "from matplotlib import pyplot as plt"
   ]
  },
  {
   "cell_type": "code",
   "execution_count": 74,
   "id": "b6c1c5b3",
   "metadata": {},
   "outputs": [
    {
     "name": "stderr",
     "output_type": "stream",
     "text": [
      "Using CPU. Note: This module is much faster with a GPU.\n"
     ]
    }
   ],
   "source": [
    "\"\"\"\n",
    "\n",
    "This project aims to give the user the ability to input any sample images of car license plates\n",
    "and return the results as a text output.\n",
    "\n",
    "The product is capable of recognising car license plates rotated, as well as a certain amount of blurriness.\n",
    "\n",
    "\"\"\"\n",
    "\n",
    "# Input Image\n",
    "image = cv2.imread(\"Sample Inputs/gardai_cars.jpg\")\n",
    "\n",
    "# Grayscale Image\n",
    "gray = cv2.cvtColor(I, cv2.COLOR_BGR2GRAY)\n",
    "\n",
    "# Binarize Image\n",
    "T, thres = cv2.threshold(gray, 190, 255, cv2.THRESH_BINARY_INV)\n",
    "# T = np.mean(gray)\n",
    "# T, thres = cv2.threshold(gray, 190, 250, type = cv2.THRESH_BINARY_INV)\n",
    "\n",
    "# Adaptive Inverted Threshold\n",
    "thres_adaptive = cv2.adaptiveThreshold(gray, maxValue = 255,adaptiveMethod = cv2.ADAPTIVE_THRESH_GAUSSIAN_C, thresholdType = cv2.THRESH_BINARY_INV, blockSize = 25,C = 20)\n",
    "\n",
    "# Creating empty canvas to fill mask in\n",
    "canvas = np.zeros(image.shape, np.uint8)\n",
    "canvas.fill(255)\n",
    "\n",
    "# Creating mask to fill in the contours\n",
    "mask = np.zeros(image.shape, np.uint8)\n",
    "mask.fill(255)\n",
    "contours_mask = cv2.findContours(thres_adaptive, cv2.RETR_EXTERNAL, cv2.CHAIN_APPROX_SIMPLE)\n",
    "\n",
    "# Fill in with red lined contours\n",
    "# contours = cv2.findContours(B, cv2.RETR_EXTERNAL, cv2.CHAIN_APPROX_SIMPLE)\n",
    "# img = cv2.drawContours(mask, contours[0], -1, (255, 0, 0), 2) \n",
    "shape = cv2.getStructuringElement(cv2.MORPH_RECT,(3,3))\n",
    "morph = cv2.morphologyEx(thres_adaptive,cv2.MORPH_CLOSE,shape)\n",
    "boundary = cv2.morphologyEx(morph,cv2.MORPH_GRADIENT,shape)\n",
    "\n",
    "# Instance of reader to detect roman characters\n",
    "reader = easyocr.Reader(['en'], gpu=False)\n",
    "\n",
    "# Roman character Recognition after morphology applied or Inverted Threshold\n",
    "textBox = reader.readtext(morph)\n",
    "print(textBox)\n",
    "\n",
    "# For loop to be used to mask out the license plates number\n",
    "# for c in contours:\n",
    "#     if contours == 0:\n",
    "#         canvas = cv2.fillConvexPoly(mask, contours_mask[contours], (0, 0, 0,))\n",
    "\n",
    "# fig, args = plt.subplots(2, 1)\n",
    "# args[0].imshow(B, cmap='gray')\n",
    "\n",
    "# cv2.imwrite(\"new_image.jpg\", boundary)\n",
    "plt.imshow(morph)\n",
    "plt.show() \n",
    "# cv2.destroyAllWindows()\n",
    "# cv2.waitKey(1) \n"
   ]
  }
 ],
 "metadata": {
  "kernelspec": {
   "display_name": "Python 3 (ipykernel)",
   "language": "python",
   "name": "python3"
  },
  "language_info": {
   "codemirror_mode": {
    "name": "ipython",
    "version": 3
   },
   "file_extension": ".py",
   "mimetype": "text/x-python",
   "name": "python",
   "nbconvert_exporter": "python",
   "pygments_lexer": "ipython3",
   "version": "3.8.10"
  }
 },
 "nbformat": 4,
 "nbformat_minor": 5
}
